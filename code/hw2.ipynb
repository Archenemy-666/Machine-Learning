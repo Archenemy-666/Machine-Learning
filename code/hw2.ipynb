
dict = {}
dict['[1,2]'] = 21
print(dict)